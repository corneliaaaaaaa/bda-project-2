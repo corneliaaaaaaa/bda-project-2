{
 "cells": [
  {
   "cell_type": "code",
   "execution_count": 1,
   "id": "966d7151",
   "metadata": {},
   "outputs": [],
   "source": [
    "import pandas as pd\n",
    "from datetime import datetime, timedelta"
   ]
  },
  {
   "cell_type": "code",
   "execution_count": 2,
   "id": "bb0998e1",
   "metadata": {},
   "outputs": [],
   "source": [
    "users_df = pd.read_csv('MemberData.csv', low_memory=False)\n",
    "order_df = pd.read_csv('OrderData.csv', low_memory=False)"
   ]
  },
  {
   "cell_type": "code",
   "execution_count": 3,
   "id": "86a0e5ae",
   "metadata": {},
   "outputs": [],
   "source": [
    "def tag(starttime, endtime, order_df, users_df):\n",
    "    order_df_1 = order_df[(order_df['OrderDateTime'] >= starttime) & (order_df['OrderDateTime'] <= endtime)]\n",
    "    order_df_1 = order_df_1[order_df_1['StatusDef'] == 'Finish']\n",
    "    order_df_1 = order_df_1.sort_values(by=['ShopMemberId', 'OrderDateTime'])[['ShopMemberId', 'OrderDateTime']]\n",
    "    order_df_1['OrderDateTime'] = pd.to_datetime(order_df_1['OrderDateTime'])\n",
    "    order_df1 = pd.concat([order_df_1.rename(columns={'ShopMemberId': 'ShopMemberId1', 'OrderDateTime': 'OrderDateTime1'}), order_df_1.shift()], axis=1)\n",
    "    order_df1 = order_df1[order_df1['ShopMemberId1'] == order_df1['ShopMemberId']]\n",
    "    order_df1['period'] = order_df1['OrderDateTime1'] - order_df1['OrderDateTime']\n",
    "    \n",
    "    median = order_df1['period'].median()\n",
    "\n",
    "    merge_df = users_df[users_df[\"RegisterDateTime\"] < endtime][[\"ShopMemberId\"]].merge(order_df[(order_df[\"StatusDef\"] == \"Finish\") & (order_df[\"OrderDateTime\"] <= endtime)][['ShopMemberId', 'OrderDateTime']], how='left', on='ShopMemberId')\n",
    "    \n",
    "    R = merge_df[merge_df[\"OrderDateTime\"].isna()][\"ShopMemberId\"].values\n",
    "    R = pd.DataFrame({\"ShopMemberId\": R, \"tag\":\"R\"})\n",
    "    \n",
    "    df2 = merge_df[~merge_df[\"OrderDateTime\"].isna()].sort_values(by = [\"ShopMemberId\", \"OrderDateTime\"]).drop_duplicates([\"ShopMemberId\"], keep = \"last\")[[\"ShopMemberId\", \"OrderDateTime\"]]\n",
    "    S = df2[df2[\"OrderDateTime\"] < starttime][\"ShopMemberId\"].values\n",
    "    S = pd.DataFrame({\"ShopMemberId\": S, \"tag\":\"S\"})\n",
    "    \n",
    "    df_3 = merge_df[(merge_df['OrderDateTime'] >= starttime) & (merge_df['OrderDateTime'] <= endtime)]\n",
    "    df_4 = df_3.groupby(\"ShopMemberId\", as_index = False).count()\n",
    "    N = df_4[df_4[\"OrderDateTime\"] == 1][\"ShopMemberId\"].values\n",
    "    df_5 = df_3.set_index(\"ShopMemberId\").loc[N].reset_index()\n",
    "    df_5[\"OrderDateTime\"] = pd.to_datetime(df_5[\"OrderDateTime\"])\n",
    "    \n",
    "    y = int(endtime.split(\"-\")[0]); m = int(endtime.split(\"-\")[1]); d = int(endtime.split(\"-\")[2]);\n",
    "    L = df_5[df_5[\"OrderDateTime\"] < datetime(y, m, d) - median * 3][\"ShopMemberId\"].values\n",
    "    N = pd.DataFrame({\"ShopMemberId\": N, \"tag\":\"N\"})\n",
    "    L = pd.DataFrame({\"ShopMemberId\": L, \"tag\":\"L\"})\n",
    "    NL = pd.concat([N, L]).drop_duplicates([\"ShopMemberId\"], keep = \"last\")\n",
    "    \n",
    "    A = df_4[df_4[\"OrderDateTime\"] != 1][\"ShopMemberId\"].values\n",
    "    df_6 = df_3.set_index(\"ShopMemberId\").loc[A].reset_index().sort_values(by = [\"ShopMemberId\", \"OrderDateTime\"]).drop_duplicates([\"ShopMemberId\"], keep = \"last\")\n",
    "    df_6[\"OrderDateTime\"] = pd.to_datetime(df_6[\"OrderDateTime\"])\n",
    "    P = df_6[df_6[\"OrderDateTime\"] < datetime(y, m, d) - median * 3][\"ShopMemberId\"].values\n",
    "\n",
    "    P = pd.DataFrame({\"ShopMemberId\": P, \"tag\":\"P\"})\n",
    "    A = pd.DataFrame({\"ShopMemberId\": A, \"tag\":\"A\"})\n",
    "    PA = pd.concat([A, P]).drop_duplicates([\"ShopMemberId\"], keep = \"last\")\n",
    "        \n",
    "    return pd.concat([R, S, NL, PA])"
   ]
  },
  {
   "cell_type": "code",
   "execution_count": 4,
   "id": "bcbf89f4",
   "metadata": {},
   "outputs": [],
   "source": [
    "a = tag('2021-04-01', '2022-03-31', order_df, users_df)\n",
    "b = tag('2021-10-01', '2022-09-30', order_df, users_df)\n",
    "c = tag('2022-04-01', '2023-03-31', order_df, users_df)\n",
    "\n",
    "merge = a.merge(b, how = \"outer\", on = \"ShopMemberId\").merge(c, how = \"outer\", on = \"ShopMemberId\")\n",
    "merge[\"12\"] = merge.apply(lambda x: x.tag_x + x.tag_y if type(x.tag_x) == str and type(x.tag_y) == str else None, axis = 1)\n",
    "merge[\"23\"] = merge.apply(lambda x: x.tag_y + x.tag if type(x.tag_y) == str and type(x.tag) == str else None, axis = 1)\n",
    "merge.columns = [\"ShopMemberId\", \"tag1\", \"tag2\", \"tag3\", \"1to2\", \"2to3\"]"
   ]
  }
 ],
 "metadata": {
  "kernelspec": {
   "display_name": "Python 3 (ipykernel)",
   "language": "python",
   "name": "python3"
  },
  "language_info": {
   "codemirror_mode": {
    "name": "ipython",
    "version": 3
   },
   "file_extension": ".py",
   "mimetype": "text/x-python",
   "name": "python",
   "nbconvert_exporter": "python",
   "pygments_lexer": "ipython3",
   "version": "3.9.12"
  }
 },
 "nbformat": 4,
 "nbformat_minor": 5
}
